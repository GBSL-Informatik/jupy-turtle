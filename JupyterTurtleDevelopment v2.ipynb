{
  "cells": [
    {
      "metadata": {
        "trusted": true
      },
      "cell_type": "code",
      "source": [
        "reset"
      ],
      "execution_count": null,
      "outputs": []
    },
    {
      "metadata": {
        "trusted": true
      },
      "cell_type": "code",
      "source": [
        "from IPython import get_ipython\n",
        "from gturtle import *"
      ],
      "execution_count": 1,
      "outputs": [
        {
          "output_type": "display_data",
          "data": {
            "text/plain": "<IPython.core.display.HTML object>",
            "text/html": "\n                <script>\n                    function startPath(canvasId) {\n    const cnv = document.getElementById(canvasId);\n    const ctx = cnv.getContext(\"2d\");\n    ctx.beginPath();\n}\n\n                </script>\n                "
          },
          "metadata": {}
        },
        {
          "output_type": "display_data",
          "data": {
            "text/plain": "<IPython.core.display.HTML object>",
            "text/html": "\n                <script>\n                    function makeTurtle(canvasId, lineWidth, strokeStyle, fillStyle) {\n    const cnv = document.getElementById(canvasId);\n    const ctx = cnv.getContext(\"2d\");\n    ctx.lineWidth = {lineWidth};\n    ctx.strokeStyle = strokeStyle;\n    ctx.fillStyle = fillStyle;\n}\n                </script>\n                "
          },
          "metadata": {}
        },
        {
          "output_type": "display_data",
          "data": {
            "text/plain": "<IPython.core.display.HTML object>",
            "text/html": "\n                <script>\n                    function lineTo(canvasId, x, y) {\n    const c = document.getElementById(canvasId);\n    const ctx = c.getContext(\"2d\");\n    ctx.lineTo(x, y);\n    ctx.stroke();\n}\n\n                </script>\n                "
          },
          "metadata": {}
        },
        {
          "output_type": "display_data",
          "data": {
            "text/plain": "<IPython.core.display.HTML object>",
            "text/html": "\n                <script>\n                    function setPenWidth(canvasId, lineWidth) {\n    const cnv = document.getElementById(canvasId);\n    const ctx = cnv.getContext(\"2d\");\n    ctx.beginPath();\n    ctx.lineWidth = lineWidth;\n}\n\n                </script>\n                "
          },
          "metadata": {}
        },
        {
          "output_type": "display_data",
          "data": {
            "text/plain": "<IPython.core.display.HTML object>",
            "text/html": "\n                <script>\n                    function fillPath(canvasId) {\n    const cnv = document.getElementById(canvasId);\n    const ctx = cnv.getContext(\"2d\");\n    ctx.fill();\n}\n\n                </script>\n                "
          },
          "metadata": {}
        },
        {
          "output_type": "display_data",
          "data": {
            "text/plain": "<IPython.core.display.HTML object>",
            "text/html": "\n                <script>\n                    function moveTurtleTo(canvasId, x, y) {\n    let cnv = document.getElementById(canvasId);\n    let ctx = cnv.getContext(\"2d\");\n    ctx.moveTo(x, y)\n}\n\n                </script>\n                "
          },
          "metadata": {}
        },
        {
          "output_type": "display_data",
          "data": {
            "text/plain": "<IPython.core.display.HTML object>",
            "text/html": "\n                <script>\n                    function arc(canvasId, centerX, centerY, radius, startAngle, endAngle, antiClockwise) {\n    const cnv = document.getElementById(canvasId);\n    const ctx = cnv.getContext(\"2d\");\n    ctx.arc(centerX, centerY, radius, startAngle, endAngle, antiClockwise);\n    ctx.stroke();\n}\n\n                </script>\n                "
          },
          "metadata": {}
        },
        {
          "output_type": "display_data",
          "data": {
            "text/plain": "<IPython.core.display.HTML object>",
            "text/html": "\n                <script>\n                    // source: https://codepen.io/Geeyoam/pen/vLGZzG\n\n/**\n * \n * @param {string} elementId \n * @param {int} x \n * @param {int} y \n * @param {string} color css color, e.g. 'red'\n * @param {float} opacity [0-1]\n */\nfunction floodFill(elementId, x, y, color, opacity) {\n  var canvas = document.getElementById(elementId);\n  var ctx = canvas.getContext(\"2d\");\n\n  function getColorAtPixel(imageData, x, y) {\n    const { width, data } = imageData\n\n    return {\n      r: data[4 * (width * y + x) + 0],\n      g: data[4 * (width * y + x) + 1],\n      b: data[4 * (width * y + x) + 2],\n      a: data[4 * (width * y + x) + 3]\n    }\n  }\n\n  function setColorAtPixel(imageData, color, x, y) {\n    const { width, data } = imageData\n\n    data[4 * (width * y + x) + 0] = color.r & 0xff\n    data[4 * (width * y + x) + 1] = color.g & 0xff\n    data[4 * (width * y + x) + 2] = color.b & 0xff\n    data[4 * (width * y + x) + 3] = color.a & 0xff\n  }\n\n  function colorMatch(a, b) {\n    return a.r === b.r && a.g === b.g && a.b === b.b && a.a === b.a\n  }\n\n  function floodFill(imageData, newColor, x, y) {\n    const { width, height, data } = imageData\n    const stack = []\n    const baseColor = getColorAtPixel(imageData, x, y)\n    let operator = { x, y }\n\n    // Check if base color and new color are the same\n    if (colorMatch(baseColor, newColor)) {\n      return\n    }\n\n    // Add the clicked location to stack\n    stack.push({ x: operator.x, y: operator.y })\n\n    while (stack.length) {\n      operator = stack.pop()\n      let contiguousDown = true // Vertical is assumed to be true\n      let contiguousUp = true // Vertical is assumed to be true\n      let contiguousLeft = false\n      let contiguousRight = false\n\n      // Move to top most contiguousDown pixel\n      while (contiguousUp && operator.y >= 0) {\n        operator.y--\n        contiguousUp = colorMatch(getColorAtPixel(imageData, operator.x, operator.y), baseColor)\n      }\n\n      // Move downward\n      while (contiguousDown && operator.y < height) {\n        setColorAtPixel(imageData, newColor, operator.x, operator.y)\n\n        // Check left\n        if (operator.x - 1 >= 0 && colorMatch(getColorAtPixel(imageData, operator.x - 1, operator.y), baseColor)) {\n          if (!contiguousLeft) {\n            contiguousLeft = true\n            stack.push({ x: operator.x - 1, y: operator.y })\n          }\n        } else {\n          contiguousLeft = false\n        }\n\n        // Check right\n        if (operator.x + 1 < width && colorMatch(getColorAtPixel(imageData, operator.x + 1, operator.y), baseColor)) {\n          if (!contiguousRight) {\n            stack.push({ x: operator.x + 1, y: operator.y })\n            contiguousRight = true\n          }\n        } else {\n          contiguousRight = false\n        }\n\n        operator.y++\n        contiguousDown = colorMatch(getColorAtPixel(imageData, operator.x, operator.y), baseColor)\n      }\n    }\n  }\n\n  const imageData = ctx.getImageData(0, 0, canvas.width, canvas.height)\n  const col = {...nameToRGB(color), a: opacity }\n\n  floodFill(imageData, col, x, y)\n  ctx.putImageData(imageData, 0, 0)\n}\n\n                </script>\n                "
          },
          "metadata": {}
        },
        {
          "output_type": "display_data",
          "data": {
            "text/plain": "<IPython.core.display.HTML object>",
            "text/html": "\n                <script>\n                    function dot(canvasId, x, y, diameter) {\n    const cnv = document.getElementById(canvasId);\n    const ctx = cnv.getContext(\"2d\");\n    ctx.beginPath();\n    ctx.arc(x, y, diameter / 2, 0, 2 * Math.PI, false);\n    ctx.fill();\n    ctx.stroke();\n    ctx.moveTo(x, y);\n    ctx.end\n}\n\n                </script>\n                "
          },
          "metadata": {}
        },
        {
          "output_type": "display_data",
          "data": {
            "text/plain": "<IPython.core.display.HTML object>",
            "text/html": "\n                <script>\n                    function setPenColor(canvasId, strokeStyle, x, y) {\n    const cnv = document.getElementById(canvasId);\n    const ctx = cnv.getContext(\"2d\");\n    ctx.beginPath();\n    ctx.strokeStyle = strokeStyle;\n    ctx.moveTo(x, y);\n}\n\n                </script>\n                "
          },
          "metadata": {}
        },
        {
          "output_type": "display_data",
          "data": {
            "text/plain": "<IPython.core.display.HTML object>",
            "text/html": "\n                <script>\n                    function nameToRGB(name) {\n    // Get RGB from named color in temporary div\n    let fakeDiv = document.createElement(\"div\");\n    fakeDiv.style.color = name;\n    document.body.appendChild(fakeDiv);\n\n    let cs = window.getComputedStyle(fakeDiv);\n    let pv = cs.getPropertyValue(\"color\");\n\n    document.body.removeChild(fakeDiv);\n    rgb = pv.substr(4).split(\")\")[0].split(\",\").map((n) => Number.parseInt(n))\n\n    return { r: rgb[0], g: rgb[1], b: rgb[2] };\n}\n                </script>\n                "
          },
          "metadata": {}
        },
        {
          "output_type": "display_data",
          "data": {
            "text/plain": "<IPython.core.display.HTML object>",
            "text/html": "\n                <script>\n                    function setFillColor(canvasId, fillStyle) {\n    const cnv = document.getElementById(canvasId);\n    const ctx = cnv.getContext(\"2d\");\n    ctx.fillStyle = fillStyle;\n}\n\n                </script>\n                "
          },
          "metadata": {}
        }
      ]
    },
    {
      "metadata": {
        "trusted": true
      },
      "cell_type": "code",
      "source": [
        "# Tu1.py\n",
        "\n",
        "from gturtle import *\n",
        "\n",
        "makeTurtle()\n",
        "\n",
        "forward(30)\n",
        "right(90)\n",
        "forward(30)\n",
        "left(90)\n",
        "forward(30)\n",
        "right(90)\n",
        "forward(30)"
      ],
      "execution_count": null,
      "outputs": []
    },
    {
      "metadata": {
        "trusted": true
      },
      "cell_type": "code",
      "source": [
        "# Tu1b.py\n",
        "\n",
        "from gturtle import *\n",
        "\n",
        "makeTurtle()\n",
        "\n",
        "right(30)\n",
        "forward(100)\n",
        "dot(20)\n",
        "right(120)\n",
        "forward(100)\n",
        "dot(20)\n",
        "right(120)\n",
        "forward(100)\n",
        "dot(20)\n",
        "hideTurtle()"
      ],
      "execution_count": null,
      "outputs": []
    },
    {
      "metadata": {
        "trusted": true
      },
      "cell_type": "code",
      "source": [
        "# Tu1c.py\n",
        "\n",
        "from gturtle import *\n",
        "\n",
        "makeTurtle()\n",
        "rightArc(100, 360)\n",
        "leftArc(100, 360)\n",
        "rightArc(50, 360)\n",
        "leftArc(50, 360)\n",
        "rightArc(200, 70)\n",
        "home()\n",
        "leftArc(200, 70)\n",
        "home()"
      ],
      "execution_count": null,
      "outputs": []
    },
    {
      "metadata": {
        "trusted": true
      },
      "cell_type": "code",
      "source": [
        "# Tu2.py\n",
        "\n",
        "from gturtle import *\n",
        "\n",
        "makeTurtle()\n",
        "\n",
        "i = 0\n",
        "while i < 4:\n",
        "    forward(100)\n",
        "    right(90)\n",
        "    i = i + 1"
      ],
      "execution_count": null,
      "outputs": []
    },
    {
      "metadata": {
        "trusted": true
      },
      "cell_type": "code",
      "source": [
        "# Tu2a.py\n",
        "\n",
        "from gturtle import *\n",
        "\n",
        "makeTurtle()\n",
        "\n",
        "a = 0\n",
        "while a < 6:\n",
        "    forward(80)\n",
        "    dot(20)\n",
        "    back(80)\n",
        "    left(60)\n",
        "    a = a + 1"
      ],
      "execution_count": null,
      "outputs": []
    },
    {
      "metadata": {
        "trusted": true
      },
      "cell_type": "code",
      "source": [
        "# Tu2b.py\n",
        "\n",
        "from gturtle import *\n",
        "\n",
        "makeTurtle()\n",
        "i = 0\n",
        "while True:\n",
        "    forward(3)\n",
        "    right(3)\n",
        "    i = i + 1\n",
        "    if i > 90:\n",
        "        break"
      ],
      "execution_count": null,
      "outputs": []
    },
    {
      "metadata": {
        "trusted": true
      },
      "cell_type": "code",
      "source": [
        "# Tu3.py\n",
        "\n",
        "from gturtle import *\n",
        "\n",
        "makeTurtle()\n",
        "  \n",
        "for i in range(9):\n",
        "    forward(160)\n",
        "    right(160)"
      ],
      "execution_count": null,
      "outputs": []
    },
    {
      "metadata": {
        "trusted": true
      },
      "cell_type": "code",
      "source": [
        "# Tu3a.py\n",
        "\n",
        "from gturtle import *\n",
        "\n",
        "makeTurtle()\n",
        "\n",
        "for i in range(10, 200, 5):\n",
        "    forward(i)\n",
        "    left(90)"
      ],
      "execution_count": null,
      "outputs": []
    },
    {
      "metadata": {
        "trusted": true
      },
      "cell_type": "code",
      "source": [
        "# Tu3b.py\n",
        "\n",
        "from gturtle import *\n",
        "\n",
        "makeTurtle()\n",
        "  \n",
        "for k in range(10):\n",
        "    for i in range(4):\n",
        "        forward(80)\n",
        "        right(90)\n",
        "    left(36)"
      ],
      "execution_count": null,
      "outputs": []
    },
    {
      "metadata": {
        "trusted": true
      },
      "cell_type": "code",
      "source": [
        "# Tu3c.py\n",
        "\n",
        "from gturtle import *\n",
        "\n",
        "makeTurtle()\n",
        "  \n",
        "hideTurtle()\n",
        "for x in range(-200, 200, 70):\n",
        "    setPos(x, 0)\n",
        "    for i in range(5):\n",
        "        forward(80)\n",
        "        right(144)"
      ],
      "execution_count": null,
      "outputs": []
    },
    {
      "metadata": {
        "trusted": true
      },
      "cell_type": "code",
      "source": [
        "# Tu4.py\n",
        "\n",
        "from gturtle import *\n",
        "\n",
        "makeTurtle()\n",
        "setPos(-50, 50)\n",
        "setPenColor(\"red\")\n",
        "for k in range(4):\n",
        "    for i in range(3):\n",
        "        forward(100)\n",
        "        right(90)\n",
        "    left(180)\n",
        "setFillColor(\"red\")\n",
        "fill(0, 0)\n",
        "hideTurtle()"
      ],
      "execution_count": 2,
      "outputs": [
        {
          "output_type": "display_data",
          "data": {
            "text/plain": "<IPython.core.display.HTML object>",
            "text/html": "\n            <canvas id=\"canvas0\" width=\"600\" height=\"600\" style=\"border: 1px solid black; margin: 0; padding: 0;\"></canvas>\n        "
          },
          "metadata": {}
        },
        {
          "output_type": "display_data",
          "data": {
            "text/plain": "<IPython.core.display.Javascript object>",
            "application/javascript": "\n            makeTurtle('canvas0', 1, 'blue', 'cyan');\n        "
          },
          "metadata": {}
        },
        {
          "output_type": "display_data",
          "data": {
            "text/plain": "<IPython.core.display.Javascript object>",
            "application/javascript": "\n            moveTurtleTo('canvas0', 300, 300);\n        "
          },
          "metadata": {}
        },
        {
          "output_type": "display_data",
          "data": {
            "text/plain": "<IPython.core.display.Javascript object>",
            "application/javascript": "\n            moveTurtleTo('canvas0', 250, 250);\n        "
          },
          "metadata": {}
        },
        {
          "output_type": "display_data",
          "data": {
            "text/plain": "<IPython.core.display.Javascript object>",
            "application/javascript": "\n            setPenColor('canvas0', 'red', 250, 250);\n        "
          },
          "metadata": {}
        },
        {
          "output_type": "display_data",
          "data": {
            "text/plain": "<IPython.core.display.Javascript object>",
            "application/javascript": "\n            lineTo('canvas0', 250, 150);\n        "
          },
          "metadata": {}
        },
        {
          "output_type": "display_data",
          "data": {
            "text/plain": "<IPython.core.display.Javascript object>",
            "application/javascript": "\n            lineTo('canvas0', 350.0, 150.0);\n        "
          },
          "metadata": {}
        },
        {
          "output_type": "display_data",
          "data": {
            "text/plain": "<IPython.core.display.Javascript object>",
            "application/javascript": "\n            lineTo('canvas0', 350.0, 250.0);\n        "
          },
          "metadata": {}
        },
        {
          "output_type": "display_data",
          "data": {
            "text/plain": "<IPython.core.display.Javascript object>",
            "application/javascript": "\n            lineTo('canvas0', 450.0, 250.0);\n        "
          },
          "metadata": {}
        },
        {
          "output_type": "display_data",
          "data": {
            "text/plain": "<IPython.core.display.Javascript object>",
            "application/javascript": "\n            lineTo('canvas0', 450.0, 350.0);\n        "
          },
          "metadata": {}
        },
        {
          "output_type": "display_data",
          "data": {
            "text/plain": "<IPython.core.display.Javascript object>",
            "application/javascript": "\n            lineTo('canvas0', 350.0, 350.0);\n        "
          },
          "metadata": {}
        },
        {
          "output_type": "display_data",
          "data": {
            "text/plain": "<IPython.core.display.Javascript object>",
            "application/javascript": "\n            lineTo('canvas0', 350.0, 450.0);\n        "
          },
          "metadata": {}
        },
        {
          "output_type": "display_data",
          "data": {
            "text/plain": "<IPython.core.display.Javascript object>",
            "application/javascript": "\n            lineTo('canvas0', 250.0, 450.0);\n        "
          },
          "metadata": {}
        },
        {
          "output_type": "display_data",
          "data": {
            "text/plain": "<IPython.core.display.Javascript object>",
            "application/javascript": "\n            lineTo('canvas0', 250.0, 350.0);\n        "
          },
          "metadata": {}
        },
        {
          "output_type": "display_data",
          "data": {
            "text/plain": "<IPython.core.display.Javascript object>",
            "application/javascript": "\n            lineTo('canvas0', 150.0, 350.00000000000006);\n        "
          },
          "metadata": {}
        },
        {
          "output_type": "display_data",
          "data": {
            "text/plain": "<IPython.core.display.Javascript object>",
            "application/javascript": "\n            lineTo('canvas0', 149.99999999999997, 250.00000000000006);\n        "
          },
          "metadata": {}
        },
        {
          "output_type": "display_data",
          "data": {
            "text/plain": "<IPython.core.display.Javascript object>",
            "application/javascript": "\n            lineTo('canvas0', 249.99999999999997, 250.00000000000003);\n        "
          },
          "metadata": {}
        },
        {
          "output_type": "display_data",
          "data": {
            "text/plain": "<IPython.core.display.Javascript object>",
            "application/javascript": "\n            setFillColor('canvas0', 'red');\n        "
          },
          "metadata": {}
        },
        {
          "output_type": "display_data",
          "data": {
            "text/plain": "<IPython.core.display.Javascript object>",
            "application/javascript": "\n            floodFill('canvas0', 320, 280, 'red', 255);\n        "
          },
          "metadata": {}
        }
      ]
    },
    {
      "metadata": {
        "trusted": true
      },
      "cell_type": "code",
      "source": [
        "# Tu4b.py\n",
        "\n",
        "from gturtle import *\n",
        "\n",
        "makeTurtle()\n",
        "\n",
        "setFillColor(\"magenta\")\n",
        "startPath()\n",
        "for i in range(5):\n",
        "    forward(160)\n",
        "    left(144)\n",
        "fillPath()"
      ],
      "execution_count": null,
      "outputs": []
    },
    {
      "metadata": {
        "trusted": true
      },
      "cell_type": "code",
      "source": [
        "# Tu5.py\n",
        "\n",
        "from gturtle import *\n",
        "\n",
        "makeTurtle()\n",
        "setPos(-200, -200)\n",
        "setPenWidth(5)\n",
        "for i in range(10):\n",
        "    if i % 2 == 0:\n",
        "        setPenColor(\"red\")\n",
        "    else:\n",
        "        setPenColor(\"green\")\n",
        "    forward(40)\n",
        "    right(90)\n",
        "    forward(40)\n",
        "    left(90)"
      ],
      "execution_count": null,
      "outputs": []
    },
    {
      "metadata": {
        "trusted": true
      },
      "cell_type": "code",
      "source": [
        "# Tu6a.py\n",
        "\n",
        "from gturtle import *\n",
        "\n",
        "makeTurtle()\n",
        "setPos(-50, -100)\n",
        "#speed(-1)\n",
        "    \n",
        "a = 180\n",
        "while a > 5:\n",
        "    for i in range(4):\n",
        "        forward(a)\n",
        "        right(90)\n",
        "    left(10)\n",
        "    a = a * 0.9"
      ],
      "execution_count": null,
      "outputs": []
    },
    {
      "metadata": {
        "trusted": true
      },
      "cell_type": "code",
      "source": [
        "# Tu6b.py\n",
        "\n",
        "from gturtle import *\n",
        "\n",
        "makeTurtle()\n",
        "\n",
        "hideTurtle()\n",
        "a = 5\n",
        "while a < 250:\n",
        "    forward(a)\n",
        "    right(70)\n",
        "    a = a + 1"
      ],
      "execution_count": null,
      "outputs": []
    },
    {
      "metadata": {
        "trusted": true
      },
      "cell_type": "code",
      "source": [
        "# Tu7.py\n",
        "\n",
        "from gturtle import *\n",
        "\n",
        "def arc():\n",
        "    for i in range(30):\n",
        "        forward(4)\n",
        "        right(3)\n",
        "  \n",
        "def petal():\n",
        "    arc()\n",
        "    right(90)\n",
        "    arc()\n",
        "\n",
        "def flower():\n",
        "    for k in range(8):\n",
        "        petal()\n",
        "        right(45)\n",
        "\n",
        "makeTurtle()\n",
        "#speed(-1)\n",
        "turtle.delay = 0\n",
        "flower()"
      ],
      "execution_count": null,
      "outputs": []
    },
    {
      "metadata": {
        "trusted": true
      },
      "cell_type": "code",
      "source": [
        "# Tu7b.py\n",
        "\n",
        "from gturtle import *\n",
        "\n",
        "def square(size):\n",
        "    for i in range(4):\n",
        "        forward(size)\n",
        "        right(90)\n",
        "\n",
        "makeTurtle()  \n",
        "s = 140\n",
        "while s > 5:\n",
        "    square(s)\n",
        "    left(180)\n",
        "    s = s * 0.9"
      ],
      "execution_count": null,
      "outputs": []
    },
    {
      "metadata": {
        "trusted": true
      },
      "cell_type": "code",
      "source": [
        "# Tu8.py\n",
        "\n",
        "from gturtle import *\n",
        "import random\n",
        "\n",
        "def star(x, y):\n",
        "    setPos(x, y)\n",
        "    startPath()\n",
        "    for i in range(6):\n",
        "        forward(10)\n",
        "        right(140)\n",
        "        forward(10)\n",
        "        left(80)\n",
        "    fillPath()\n",
        "\n",
        "makeTurtle()        \n",
        "hideTurtle()\n",
        "turtle.delay = 0\n",
        "#clear(\"blue\")\n",
        "setPenColor(\"yellow\")\n",
        "setFillColor(\"yellow\")\n",
        "for i in range(50):\n",
        "    x = random.randint (-270, 270)\n",
        "    y = random.randint (-270, 270)\n",
        "    star(x, y)"
      ],
      "execution_count": null,
      "outputs": []
    },
    {
      "metadata": {
        "trusted": true,
        "tags": []
      },
      "cell_type": "code",
      "source": [
        "# Tu8c.py\n",
        "\n",
        "from gturtle import *\n",
        "import random\n",
        "\n",
        "from gturtle import *\n",
        "\n",
        "def init():\n",
        "    setPenColor(\"black\")\n",
        "    for i in range(4):\n",
        "        forward(200)\n",
        "        right(90)\n",
        "    setPos(0, 200)\n",
        "    right(90)\n",
        "    rightArc(200, 90)\n",
        "\n",
        "makeTurtle() \n",
        "hideTurtle()\n",
        "turtle.delay = 0\n",
        "#addStatusBar(20)\n",
        "n = 1000\n",
        "k = 0\n",
        "init()\n",
        "\n",
        "for i in range(n):\n",
        "    zx = random.random()\n",
        "    zy = random.random()\n",
        "    if zx * zx + zy * zy <= 1:\n",
        "        k = k + 1\n",
        "        setPenColor(\"red\")\n",
        "    else:\n",
        "        setPenColor(\"green\")    \n",
        "    setPos(zx * 200, zy * 200)\n",
        "    dot(2)\n",
        "pi = 4 * k/n\n",
        "#setStatusText(\"PI  =  \" + str(pi))\n",
        "print(\"PI  =  \" + str(pi))"
      ],
      "execution_count": null,
      "outputs": []
    },
    {
      "metadata": {
        "trusted": true
      },
      "cell_type": "code",
      "source": [
        "%%javascript\n",
        "var output_area = this;\n",
        "// find my cell element\n",
        "var cell_element = output_area.element.parents('.cell');\n",
        "// which cell is it?\n",
        "var cell_idx = Jupyter.notebook.get_cell_elements().index(cell_element);\n",
        "console.log(cell_idx)"
      ],
      "execution_count": null,
      "outputs": []
    },
    {
      "metadata": {
        "trusted": true
      },
      "cell_type": "code",
      "source": [
        "print(get_ipython().execution_count)"
      ],
      "execution_count": null,
      "outputs": []
    },
    {
      "metadata": {
        "trusted": true
      },
      "cell_type": "code",
      "source": [
        "get_ipython().execution_count"
      ],
      "execution_count": null,
      "outputs": []
    },
    {
      "metadata": {
        "trusted": true
      },
      "cell_type": "code",
      "source": [],
      "execution_count": null,
      "outputs": []
    }
  ],
  "metadata": {
    "kernelspec": {
      "name": "python38364bit383pyenv8c4b70ca7eda4aacafd89fc5235bf831",
      "display_name": "Python 3.8.3 64-bit ('3.8.3': pyenv)",
      "language": "python"
    },
    "language_info": {
      "mimetype": "text/x-python",
      "nbconvert_exporter": "python",
      "name": "python",
      "pygments_lexer": "ipython3",
      "version": "3.8.3-final",
      "file_extension": ".py",
      "codemirror_mode": {
        "version": 3,
        "name": "ipython"
      }
    }
  },
  "nbformat": 4,
  "nbformat_minor": 2
}